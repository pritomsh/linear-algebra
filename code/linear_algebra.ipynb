{
 "cells": [
  {
   "cell_type": "markdown",
   "id": "e430d7b2",
   "metadata": {},
   "source": [
    "# Linear Algebra :\n",
    "Linear algebra is a branch of mathematics that is widely used in science and engineering. A good understanding of linear algebra is essential for understanding and working with many machine learning algorithms, especially deep learning algorithms.\n",
    "\n",
    "# Scalars, Vectors, Matrices and Tensors"
   ]
  },
  {
   "cell_type": "markdown",
   "id": "9dceb8c8",
   "metadata": {},
   "source": [
    "- Scalers : A scaler is just a single  number, in contrast to most of the other objects studied in linear algebra, which are usually arrays of tmultiple numbers \n",
    "It's write in italies and lower-case variable.  “Let n ∈ N be the number of units,” while defining a\n",
    "natural number scalar."
   ]
  },
  {
   "cell_type": "markdown",
   "id": "c2a64239",
   "metadata": {},
   "source": [
    "- Matrices: A matrix is a 2-D array of numbers, so each element is identified by two indices instead of just one.\n",
    "\n",
    "Equation :\n",
    "\n",
    "\\begin{equation*}\n",
    "\\   \\begin{vmatrix}\n",
    " \\\n",
    "A_{1,1} &  A_{1,2}  \\\\\n",
    "A_{2,1} &  A_{2,2} \n",
    "\\end{vmatrix}  \n",
    "\\end{equation*}"
   ]
  },
  {
   "cell_type": "code",
   "execution_count": 1,
   "id": "2047706e",
   "metadata": {},
   "outputs": [],
   "source": [
    "import numpy as np"
   ]
  },
  {
   "cell_type": "code",
   "execution_count": 2,
   "id": "1e4686f0",
   "metadata": {},
   "outputs": [
    {
     "data": {
      "text/plain": [
       "array([[1, 2],\n",
       "       [3, 4]])"
      ]
     },
     "execution_count": 2,
     "metadata": {},
     "output_type": "execute_result"
    }
   ],
   "source": [
    "np.array([[1, 2], [3, 4]])"
   ]
  },
  {
   "cell_type": "markdown",
   "id": "7e62d47d",
   "metadata": {},
   "source": [
    "- Vectors: A vector is an array of numbers. The numbers are arranged in order.we write them as a column enclosed in square                brackets\n",
    "\n",
    "Equation :\n",
    "\n",
    "\\begin{equation*} \n",
    "\\mathbf{x}=\n",
    "\\   \\begin{vmatrix}\n",
    " \\\n",
    "A_{1}   \\\\\n",
    "A_{2}   \\\\ \n",
    ".\\\\ \n",
    ".\\\\\n",
    "A_{n}\n",
    "\\end{vmatrix}  \n",
    "\\end{equation*}\n",
    "Create a row vector and column vector"
   ]
  },
  {
   "cell_type": "code",
   "execution_count": 3,
   "id": "a9603b11",
   "metadata": {},
   "outputs": [
    {
     "name": "stdout",
     "output_type": "stream",
     "text": [
      "Row Vector\n",
      "[[ 1 -5  3  2  4]]\n",
      "shape of Row (1, 5)\n",
      "\n",
      "\n",
      "Column Vector\n",
      "[[1]\n",
      " [2]\n",
      " [3]\n",
      " [4]]\n",
      "shape of Row (4, 1)\n"
     ]
    }
   ],
   "source": [
    "vector_row = np.array([[1, -5, 3, 2, 4]])\n",
    "vector_column = np.array([[1], \n",
    "                          [2], \n",
    "                          [3], \n",
    "                          [4]])\n",
    "print('Row Vector')\n",
    "print(vector_row)\n",
    "print(\"shape of Row\",vector_row.shape)\n",
    "print(\"\\n\")\n",
    "print('Column Vector')\n",
    "print(vector_column)\n",
    "print(\"shape of Row\",vector_column.shape)"
   ]
  },
  {
   "cell_type": "markdown",
   "id": "103ec2f4",
   "metadata": {},
   "source": [
    "- Tensors : an array of numbers arranged on a regular grid with a variable number of axes is known as a tensor.an array with more than two axes.\n",
    "\n"
   ]
  },
  {
   "cell_type": "markdown",
   "id": "4c9be45e",
   "metadata": {},
   "source": [
    "- The transpose of a matrix is the mirror image of the matrix across a diagonal line, called the main diagonal, running down and to the right, starting from its upper left corner.\n",
    "\n",
    "\n",
    "Equation :\n",
    "\n",
    "\\begin{align}\n",
    "(A^T)_{i,j}& =A_{j,i}\n",
    "\\end{align}"
   ]
  },
  {
   "cell_type": "markdown",
   "id": "25fc3dde",
   "metadata": {},
   "source": [
    "# Multiplying Matrices"
   ]
  },
  {
   "cell_type": "markdown",
   "id": "2f4953e2",
   "metadata": {},
   "source": [
    "Condider 2 matriecs M1 and M2. For matriecs multiply M1 must have the same number of columns as M2 has rows. \n",
    "If M1 is of shape a × b and M2 is of shape b × c, then M is of shape a × c.\n",
    "\n",
    "Equation :\n",
    "\n",
    "\\begin{align}\n",
    "M& =M_{1} M_{2}\n",
    "\\end{align}"
   ]
  },
  {
   "cell_type": "markdown",
   "id": "23c3da1a",
   "metadata": {},
   "source": [
    "Matrix Multiplication Follows distributive Rules:\n",
    "\n",
    "\n",
    "Equation :\n",
    "\n",
    "\\begin{align}\n",
    "A(B+C)& =AB + AC\n",
    "\\end{align}\n",
    "\n",
    "\n"
   ]
  },
  {
   "cell_type": "markdown",
   "id": "01fe1a58",
   "metadata": {},
   "source": [
    "Matrix Multiplication Aslo Follows Associative Rules: \n",
    "\n",
    "Equation :\n",
    "\\begin{align}\n",
    "A(BC)& =(AB)C\n",
    "\\end{align}\n"
   ]
  },
  {
   "cell_type": "markdown",
   "id": "00eca555",
   "metadata": {},
   "source": [
    "# Identity  Matrices"
   ]
  },
  {
   "cell_type": "markdown",
   "id": "fccae471",
   "metadata": {},
   "source": [
    "- The identity matrix is a square matrix with ones on the diagonal and zeros elsewhere. The identity matrix is usually denoted by I , and is analagous to the real number identity, 1"
   ]
  },
  {
   "cell_type": "markdown",
   "id": "15f3f5f8",
   "metadata": {},
   "source": [
    "$$z=\\dfrac{2x}{3y}$$\n"
   ]
  },
  {
   "cell_type": "code",
   "execution_count": 4,
   "id": "8420f0fe",
   "metadata": {},
   "outputs": [
    {
     "name": "stdout",
     "output_type": "stream",
     "text": [
      "I:\n",
      " [[1. 0. 0.]\n",
      " [0. 1. 0.]\n",
      " [0. 0. 1.]]\n"
     ]
    }
   ],
   "source": [
    "I = np.eye(3)\n",
    "print('I:\\n', I)\n"
   ]
  },
  {
   "cell_type": "markdown",
   "id": "72c498b1",
   "metadata": {},
   "source": [
    "####  An identity matrix is a matrix that does not change any vector when we multiply that vector by that matrix."
   ]
  },
  {
   "cell_type": "code",
   "execution_count": 5,
   "id": "e73ac91e",
   "metadata": {},
   "outputs": [
    {
     "name": "stdout",
     "output_type": "stream",
     "text": [
      "Matrix :\n",
      " [[0 2 1 3]\n",
      " [3 2 8 1]\n",
      " [1 0 0 3]\n",
      " [0 3 2 1]]\n",
      "Identity Matrix:\n",
      " [[1. 0. 0. 0.]\n",
      " [0. 1. 0. 0.]\n",
      " [0. 0. 1. 0.]\n",
      " [0. 0. 0. 1.]]\n",
      "M*I:\n",
      " [[0. 2. 1. 3.]\n",
      " [3. 2. 8. 1.]\n",
      " [1. 0. 0. 3.]\n",
      " [0. 3. 2. 1.]]\n"
     ]
    }
   ],
   "source": [
    "from numpy.linalg import det\n",
    "\n",
    "M = np.array([[0,2,1,3], \n",
    "             [3,2,8,1], \n",
    "             [1,0,0,3],\n",
    "             [0,3,2,1]])\n",
    "print('Matrix :\\n', M)\n",
    "\n",
    "I = np.eye(4)\n",
    "print('Identity Matrix:\\n', I)\n",
    "print('M*I:\\n', np.dot(M, I))"
   ]
  },
  {
   "cell_type": "markdown",
   "id": "d19d854c",
   "metadata": {},
   "source": [
    "Ref : \n",
    "<a href=\"https://www.deeplearningbook.org/\">Deep Learning</a>\n",
    "<br>\n",
    "<a href = \"https://pythonnumericalmethods.berkeley.edu/notebooks/chapter14.01-Basics-of-Linear-Algebra.html\">Basics of Linear Algebra</a>"
   ]
  },
  {
   "cell_type": "code",
   "execution_count": null,
   "id": "c4718845",
   "metadata": {},
   "outputs": [],
   "source": []
  }
 ],
 "metadata": {
  "kernelspec": {
   "display_name": "Python 3 (ipykernel)",
   "language": "python",
   "name": "python3"
  },
  "language_info": {
   "codemirror_mode": {
    "name": "ipython",
    "version": 3
   },
   "file_extension": ".py",
   "mimetype": "text/x-python",
   "name": "python",
   "nbconvert_exporter": "python",
   "pygments_lexer": "ipython3",
   "version": "3.9.13"
  }
 },
 "nbformat": 4,
 "nbformat_minor": 5
}
